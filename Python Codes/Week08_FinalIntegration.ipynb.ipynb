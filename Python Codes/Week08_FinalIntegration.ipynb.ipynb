{
 "cells": [
  {
   "cell_type": "code",
   "execution_count": 1,
   "id": "715452d2",
   "metadata": {},
   "outputs": [
    {
     "name": "stderr",
     "output_type": "stream",
     "text": [
      "c:\\Users\\M.ANTONY ROJES\\Downloads\\Infosys\\.venv\\lib\\site-packages\\keras\\src\\layers\\rnn\\rnn.py:199: UserWarning: Do not pass an `input_shape`/`input_dim` argument to a layer. When using Sequential models, prefer using an `Input(shape)` object as the first layer in the model instead.\n",
      "  super().__init__(**kwargs)\n"
     ]
    },
    {
     "name": "stdout",
     "output_type": "stream",
     "text": [
      "LSTM model has been successfully rebuilt and trained.\n",
      "\u001b[1m8/8\u001b[0m \u001b[32m━━━━━━━━━━━━━━━━━━━━\u001b[0m\u001b[37m\u001b[0m \u001b[1m1s\u001b[0m 31ms/step\n",
      "     Actual Market Value  Predicted Market Value\n",
      "154            -0.314860                0.266712\n",
      "5              -0.217042               -0.023035\n",
      "118             2.350666                0.014438\n",
      "38              0.027501                0.007141\n",
      "53             -0.241497                0.065765\n",
      "\n",
      "✅ Interactive visualization saved as 'market_value_predictions.html'\n"
     ]
    }
   ],
   "source": [
    "import pandas as pd\n",
    "import numpy as np\n",
    "import tensorflow as tf\n",
    "from sklearn.model_selection import train_test_split\n",
    "from sklearn.preprocessing import MinMaxScaler\n",
    "from tensorflow.keras.models import Sequential\n",
    "from tensorflow.keras.layers import LSTM, Dense\n",
    "import plotly.graph_objects as go\n",
    "import os\n",
    "\n",
    "# --- Data Preparation and Model Training (from previous weeks) ---\n",
    "# Note: This is included to ensure all variables are defined.\n",
    "df = pd.read_csv(r'C:\\Users\\M.ANTONY ROJES\\Downloads\\Infosys\\data\\feature_engineered\\player_features_model_all_imputed.csv')\n",
    "features = ['passes_attempted', 'expected_goals', 'goals', 'assists', 'injury_count', 'total_days_out', 'avg_market_value']\n",
    "target = 'avg_market_value'\n",
    "\n",
    "scaler = MinMaxScaler(feature_range=(0, 1))\n",
    "scaled_data = scaler.fit_transform(df[features])\n",
    "\n",
    "def create_sequences(data, n_steps):\n",
    "    X, y = [], []\n",
    "    for i in range(len(data)):\n",
    "        end_ix = i + n_steps\n",
    "        if end_ix > len(data) - 1:\n",
    "            break\n",
    "        seq_x, seq_y = data[i:end_ix, :], data[end_ix, -1]\n",
    "        X.append(seq_x)\n",
    "        y.append(seq_y)\n",
    "    return np.array(X), np.array(y)\n",
    "\n",
    "n_steps = 3\n",
    "X, y = create_sequences(scaled_data, n_steps)\n",
    "X_train, X_test, y_train, y_test = train_test_split(X, y, test_size=0.2, shuffle=False)\n",
    "\n",
    "model = Sequential()\n",
    "model.add(LSTM(50, activation='relu', input_shape=(n_steps, X.shape[2])))\n",
    "model.add(Dense(1))\n",
    "model.compile(optimizer='adam', loss='mean_squared_error')\n",
    "model.fit(X_train, y_train, epochs=50, validation_data=(X_test, y_test), verbose=0)\n",
    "print(\"LSTM model has been successfully rebuilt and trained.\")\n",
    "\n",
    "# --- Corrected Week 8 Code: Final Predictions and Visualization ---\n",
    "# Make final predictions on the test set\n",
    "final_predictions_scaled = model.predict(X_test).flatten()\n",
    "\n",
    "# Reshape y_test and final_predictions_scaled to a 2D array\n",
    "y_test_2d = y_test.reshape(-1, 1)\n",
    "final_predictions_2d = final_predictions_scaled.reshape(-1, 1)\n",
    "\n",
    "# Create dummy arrays with the correct number of features (7) for inverse transformation\n",
    "dummy_array_test = np.zeros(shape=(len(y_test_2d), 7))\n",
    "dummy_array_preds = np.zeros(shape=(len(final_predictions_2d), 7))\n",
    "\n",
    "# Place the scaled target values in the last column\n",
    "dummy_array_test[:, -1] = y_test_2d.flatten()\n",
    "dummy_array_preds[:, -1] = final_predictions_2d.flatten()\n",
    "\n",
    "# Inverse transform the dummy arrays to get the original scale\n",
    "y_test_original = scaler.inverse_transform(dummy_array_test)[:, -1]\n",
    "final_predictions_original = scaler.inverse_transform(dummy_array_preds)[:, -1]\n",
    "\n",
    "# Display a comparison of a few actual vs. predicted values\n",
    "comparison_df = pd.DataFrame({'Actual Market Value': y_test_original, 'Predicted Market Value': final_predictions_original})\n",
    "print(comparison_df.sample(5))\n",
    "\n",
    "# Create traces for the actual and predicted values\n",
    "actual_trace = go.Scatter(\n",
    "    x=np.arange(len(y_test_original)),\n",
    "    y=y_test_original,\n",
    "    mode='lines',\n",
    "    name='Actual Market Value'\n",
    ")\n",
    "\n",
    "predicted_trace = go.Scatter(\n",
    "    x=np.arange(len(final_predictions_original)),\n",
    "    y=final_predictions_original,\n",
    "    mode='lines',\n",
    "    name='Predicted Market Value'\n",
    ")\n",
    "\n",
    "# Create the figure and add traces\n",
    "fig = go.Figure(data=[actual_trace, predicted_trace])\n",
    "\n",
    "# Add titles and labels\n",
    "fig.update_layout(\n",
    "    title='Actual vs. Predicted Player Market Values (Test Set)',\n",
    "    xaxis_title='Player Index',\n",
    "    yaxis_title='Market Value (in millions)'\n",
    ")\n",
    "\n",
    "# Save the plot as an HTML file\n",
    "fig.write_html(\"market_value_predictions.html\")\n",
    "\n",
    "print(\"\\n✅ Interactive visualization saved as 'market_value_predictions.html'\")"
   ]
  },
  {
   "cell_type": "code",
   "execution_count": 2,
   "id": "4d505a09",
   "metadata": {},
   "outputs": [
    {
     "name": "stdout",
     "output_type": "stream",
     "text": [
      "Model Summary:\n"
     ]
    },
    {
     "data": {
      "text/html": [
       "<pre style=\"white-space:pre;overflow-x:auto;line-height:normal;font-family:Menlo,'DejaVu Sans Mono',consolas,'Courier New',monospace\"><span style=\"font-weight: bold\">Model: \"sequential\"</span>\n",
       "</pre>\n"
      ],
      "text/plain": [
       "\u001b[1mModel: \"sequential\"\u001b[0m\n"
      ]
     },
     "metadata": {},
     "output_type": "display_data"
    },
    {
     "data": {
      "text/html": [
       "<pre style=\"white-space:pre;overflow-x:auto;line-height:normal;font-family:Menlo,'DejaVu Sans Mono',consolas,'Courier New',monospace\">┏━━━━━━━━━━━━━━━━━━━━━━━━━━━━━━━━━┳━━━━━━━━━━━━━━━━━━━━━━━━┳━━━━━━━━━━━━━━━┓\n",
       "┃<span style=\"font-weight: bold\"> Layer (type)                    </span>┃<span style=\"font-weight: bold\"> Output Shape           </span>┃<span style=\"font-weight: bold\">       Param # </span>┃\n",
       "┡━━━━━━━━━━━━━━━━━━━━━━━━━━━━━━━━━╇━━━━━━━━━━━━━━━━━━━━━━━━╇━━━━━━━━━━━━━━━┩\n",
       "│ lstm (<span style=\"color: #0087ff; text-decoration-color: #0087ff\">LSTM</span>)                     │ (<span style=\"color: #00d7ff; text-decoration-color: #00d7ff\">None</span>, <span style=\"color: #00af00; text-decoration-color: #00af00\">50</span>)             │        <span style=\"color: #00af00; text-decoration-color: #00af00\">11,600</span> │\n",
       "├─────────────────────────────────┼────────────────────────┼───────────────┤\n",
       "│ dense (<span style=\"color: #0087ff; text-decoration-color: #0087ff\">Dense</span>)                   │ (<span style=\"color: #00d7ff; text-decoration-color: #00d7ff\">None</span>, <span style=\"color: #00af00; text-decoration-color: #00af00\">1</span>)              │            <span style=\"color: #00af00; text-decoration-color: #00af00\">51</span> │\n",
       "└─────────────────────────────────┴────────────────────────┴───────────────┘\n",
       "</pre>\n"
      ],
      "text/plain": [
       "┏━━━━━━━━━━━━━━━━━━━━━━━━━━━━━━━━━┳━━━━━━━━━━━━━━━━━━━━━━━━┳━━━━━━━━━━━━━━━┓\n",
       "┃\u001b[1m \u001b[0m\u001b[1mLayer (type)                   \u001b[0m\u001b[1m \u001b[0m┃\u001b[1m \u001b[0m\u001b[1mOutput Shape          \u001b[0m\u001b[1m \u001b[0m┃\u001b[1m \u001b[0m\u001b[1m      Param #\u001b[0m\u001b[1m \u001b[0m┃\n",
       "┡━━━━━━━━━━━━━━━━━━━━━━━━━━━━━━━━━╇━━━━━━━━━━━━━━━━━━━━━━━━╇━━━━━━━━━━━━━━━┩\n",
       "│ lstm (\u001b[38;5;33mLSTM\u001b[0m)                     │ (\u001b[38;5;45mNone\u001b[0m, \u001b[38;5;34m50\u001b[0m)             │        \u001b[38;5;34m11,600\u001b[0m │\n",
       "├─────────────────────────────────┼────────────────────────┼───────────────┤\n",
       "│ dense (\u001b[38;5;33mDense\u001b[0m)                   │ (\u001b[38;5;45mNone\u001b[0m, \u001b[38;5;34m1\u001b[0m)              │            \u001b[38;5;34m51\u001b[0m │\n",
       "└─────────────────────────────────┴────────────────────────┴───────────────┘\n"
      ]
     },
     "metadata": {},
     "output_type": "display_data"
    },
    {
     "data": {
      "text/html": [
       "<pre style=\"white-space:pre;overflow-x:auto;line-height:normal;font-family:Menlo,'DejaVu Sans Mono',consolas,'Courier New',monospace\"><span style=\"font-weight: bold\"> Total params: </span><span style=\"color: #00af00; text-decoration-color: #00af00\">34,955</span> (136.55 KB)\n",
       "</pre>\n"
      ],
      "text/plain": [
       "\u001b[1m Total params: \u001b[0m\u001b[38;5;34m34,955\u001b[0m (136.55 KB)\n"
      ]
     },
     "metadata": {},
     "output_type": "display_data"
    },
    {
     "data": {
      "text/html": [
       "<pre style=\"white-space:pre;overflow-x:auto;line-height:normal;font-family:Menlo,'DejaVu Sans Mono',consolas,'Courier New',monospace\"><span style=\"font-weight: bold\"> Trainable params: </span><span style=\"color: #00af00; text-decoration-color: #00af00\">11,651</span> (45.51 KB)\n",
       "</pre>\n"
      ],
      "text/plain": [
       "\u001b[1m Trainable params: \u001b[0m\u001b[38;5;34m11,651\u001b[0m (45.51 KB)\n"
      ]
     },
     "metadata": {},
     "output_type": "display_data"
    },
    {
     "data": {
      "text/html": [
       "<pre style=\"white-space:pre;overflow-x:auto;line-height:normal;font-family:Menlo,'DejaVu Sans Mono',consolas,'Courier New',monospace\"><span style=\"font-weight: bold\"> Non-trainable params: </span><span style=\"color: #00af00; text-decoration-color: #00af00\">0</span> (0.00 B)\n",
       "</pre>\n"
      ],
      "text/plain": [
       "\u001b[1m Non-trainable params: \u001b[0m\u001b[38;5;34m0\u001b[0m (0.00 B)\n"
      ]
     },
     "metadata": {},
     "output_type": "display_data"
    },
    {
     "data": {
      "text/html": [
       "<pre style=\"white-space:pre;overflow-x:auto;line-height:normal;font-family:Menlo,'DejaVu Sans Mono',consolas,'Courier New',monospace\"><span style=\"font-weight: bold\"> Optimizer params: </span><span style=\"color: #00af00; text-decoration-color: #00af00\">23,304</span> (91.04 KB)\n",
       "</pre>\n"
      ],
      "text/plain": [
       "\u001b[1m Optimizer params: \u001b[0m\u001b[38;5;34m23,304\u001b[0m (91.04 KB)\n"
      ]
     },
     "metadata": {},
     "output_type": "display_data"
    },
    {
     "name": "stdout",
     "output_type": "stream",
     "text": [
      "\n",
      "[Comparison of Actual vs Predicted Market Values]\n",
      "   Actual Market Value  Predicted Market Value\n",
      "0            -0.229269                0.031699\n",
      "1            -0.588749               -0.020996\n",
      "2            -0.314860                0.000883\n",
      "3            -0.314860               -0.088239\n",
      "4            -0.510495                0.284969\n",
      "5            -0.217042               -0.023035\n",
      "6             1.250219               -0.020218\n",
      "7            -0.510495               -0.013901\n",
      "8            -0.314860               -0.042291\n",
      "9            -0.481149               -0.084505\n",
      "Total predictions: 229\n",
      "\n",
      "✅ Visualization file exists: market_value_predictions.html\n"
     ]
    }
   ],
   "source": [
    "# === WEEK 8 VERIFICATION ===\n",
    "\n",
    "# 1. Check model training\n",
    "try:\n",
    "    print(\"Model Summary:\")\n",
    "    model.summary()\n",
    "except Exception as e:\n",
    "    print(\"Model not defined or not trained:\", e)\n",
    "\n",
    "# 2. Verify predictions comparison DataFrame\n",
    "try:\n",
    "    print(\"\\n[Comparison of Actual vs Predicted Market Values]\")\n",
    "    print(comparison_df.head(10))\n",
    "    print(f\"Total predictions: {len(comparison_df)}\")\n",
    "except Exception as e:\n",
    "    print(\"Comparison DataFrame not found:\", e)\n",
    "\n",
    "# 3. Check visualization file\n",
    "import os\n",
    "if os.path.exists(\"market_value_predictions.html\"):\n",
    "    print(\"\\n✅ Visualization file exists: market_value_predictions.html\")\n",
    "else:\n",
    "    print(\"\\n❌ Visualization file not found.\")\n"
   ]
  },
  {
   "cell_type": "code",
   "execution_count": null,
   "id": "2ab1c26e",
   "metadata": {},
   "outputs": [
    {
     "name": "stderr",
     "output_type": "stream",
     "text": [
      "C:\\Users\\M.ANTONY ROJES\\AppData\\Local\\Temp\\ipykernel_3780\\3179549772.py:2: DtypeWarning:\n",
      "\n",
      "Columns (81,83,93,94,95,96,97,98,99,100,101,103,104,106,112,114,115,116,117,118,119,121,122,123,124,125,126,127,128,129,130,131,132,133,134,135,136,137) have mixed types. Specify dtype option on import or set low_memory=False.\n",
      "\n"
     ]
    }
   ],
   "source": [
    "# --- Reload Week 3 outputs ---\n",
    "events_df = pd.read_csv(\"events_week3.csv\")\n",
    "\n",
    "# --- Reload Week 4 outputs ---\n",
    "summary = pd.read_csv(\"player_summary_week4.csv\")\n",
    "\n",
    "# --- Reload Week 5 outputs ---\n",
    "sentiment_df = pd.read_csv(\"sentiment_cleaned.csv\")\n"
   ]
  }
 ],
 "metadata": {
  "kernelspec": {
   "display_name": "Python (.venv Infosys)",
   "language": "python",
   "name": "infosys_venv"
  },
  "language_info": {
   "codemirror_mode": {
    "name": "ipython",
    "version": 3
   },
   "file_extension": ".py",
   "mimetype": "text/x-python",
   "name": "python",
   "nbconvert_exporter": "python",
   "pygments_lexer": "ipython3",
   "version": "3.9.12"
  }
 },
 "nbformat": 4,
 "nbformat_minor": 5
}
